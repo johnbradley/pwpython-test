{
 "cells": [
  {
   "cell_type": "markdown",
   "id": "44a54a2f",
   "metadata": {
    "slideshow": {
     "slide_type": "slide"
    }
   },
   "source": [
    "# Programming with Python\n",
    "## Duke UPGG Scientific Computing Bootcamp"
   ]
  },
  {
   "cell_type": "markdown",
   "id": "db7bc57f",
   "metadata": {
    "slideshow": {
     "slide_type": "slide"
    }
   },
   "source": [
    "![books](images/books.png)\n",
    "# What book should I read?\n",
    "## How many books about riding a bike did you read?"
   ]
  },
  {
   "cell_type": "markdown",
   "id": "c3bf73f0",
   "metadata": {
    "slideshow": {
     "slide_type": "slide"
    }
   },
   "source": [
    "![bicycle](images/bicycle.png)\n",
    "## “You can be a scientist in the science of bike ride mechanics and it still won’t help you one bit to do the actual thing.”\n",
    "### http://twonontechies.com/bicycles-can-help-you-learn-programming/"
   ]
  },
  {
   "cell_type": "markdown",
   "id": "e0c0799a",
   "metadata": {
    "slideshow": {
     "slide_type": "slide"
    }
   },
   "source": [
    "# Why Python?\n",
    "## - We have to use something\n",
    "## - It’s free, well-documented, and runs everywhere \n",
    "## - Large community among scientists\n",
    "## - Relatively easy to pick up, but programming is __hard!__\n"
   ]
  },
  {
   "cell_type": "markdown",
   "id": "d236f56f",
   "metadata": {
    "slideshow": {
     "slide_type": "slide"
    }
   },
   "source": [
    "# Goals\n",
    "## - Write and run programs in Python\n",
    "## - Understand basic data types and functions\n",
    "## - Work with files and libraries\n",
    "## - Know where to look for more help\n",
    "\n",
    "## I know, I’ll use __Python!__"
   ]
  },
  {
   "cell_type": "markdown",
   "id": "ba01d989",
   "metadata": {
    "slideshow": {
     "slide_type": "slide"
    }
   },
   "source": [
    "# Download\n",
    "## - Download the __python-fasta.zip__ file from the course website - __Syllabus__.\n",
    "\n",
    "## - Unzip it and place on your Desktop:\n",
    "```\n",
    "python-fasta/\n",
    "  ae.fa\n",
    "  ls_orchid.fasta\n",
    "``` "
   ]
  },
  {
   "cell_type": "markdown",
   "id": "74be16e8",
   "metadata": {
    "slideshow": {
     "slide_type": "slide"
    }
   },
   "source": [
    "## 1. Open Anaconda Navigator (installed with Anaconda)\n",
    "### 2. Click to launch Jupyter Notebook\n",
    "![launchnotebook](images/launchnotebook.png)"
   ]
  },
  {
   "cell_type": "markdown",
   "id": "534440b0",
   "metadata": {
    "slideshow": {
     "slide_type": "slide"
    }
   },
   "source": [
    "# Begin Jupyter Notebook"
   ]
  },
  {
   "cell_type": "markdown",
   "id": "0cf71933",
   "metadata": {
    "slideshow": {
     "slide_type": "slide"
    }
   },
   "source": [
    "# Data Types\n",
    "## Numeric:\n",
    "###  - Integer: 1, 76, 400\n",
    "###  - Float: -1.2, 0.5, 3.1415926 (Use a decimal point) Boolean: True, False\n",
    "## Text:\n",
    "###  - Strings: ‘ACTGACAG' (Wrap in quotes)\n"
   ]
  },
  {
   "cell_type": "markdown",
   "id": "13376d30",
   "metadata": {
    "slideshow": {
     "slide_type": "slide"
    }
   },
   "source": [
    "# Strings\n",
    "### Strings can be created with quotes or double quotes:\n",
    "```\n",
    "name = 'Daniel'\n",
    "```\n",
    "### Access individual letters as strings with [] (starting at 0)\n",
    "```\n",
    "name[0] # D\n",
    "name[1] # a\n",
    "```\n",
    "### Check if a letter exists in a string\n",
    "```\n",
    "'a' in name # True\n",
    "'a' not in name # False\n",
    "```"
   ]
  },
  {
   "cell_type": "markdown",
   "id": "b0b388f3",
   "metadata": {
    "slideshow": {
     "slide_type": "slide"
    }
   },
   "source": [
    "# Variables\n",
    "\n",
    "## Assign variables with equals\n",
    "```\n",
    "x=3\n",
    "```\n",
    "## Access variables by name\n",
    "```\n",
    "print(x) # 3\n",
    "```\n",
    "## Variables work like sticky notes, they’re just a label\n"
   ]
  },
  {
   "cell_type": "markdown",
   "id": "3636403c",
   "metadata": {
    "slideshow": {
     "slide_type": "slide"
    }
   },
   "source": [
    "# What do we know?\n",
    "## Our sequence is a string, in __seq10__\n",
    "## Strings are sequences of characters, each at a numbered position (starting from 0)\n",
    "## We can extract characters as strings with square brackets __[ ]__\n",
    "## We can combine strings together with __+__"
   ]
  },
  {
   "cell_type": "markdown",
   "id": "4c20f2f4",
   "metadata": {
    "slideshow": {
     "slide_type": "slide"
    }
   },
   "source": [
    "# Exercise: Reverse\n",
    "## Write some code that __reverses__ the sequence in seq.\n",
    "## It should\n",
    "### 1. Create an empty string variable __rev__\n",
    "```\n",
    "rev = ''\n",
    "```\n",
    "### 2. Loop over the items in __seq__, adding these to rev in reversed order\n",
    "### 3. Print the contents of __rev__"
   ]
  },
  {
   "cell_type": "markdown",
   "id": "3a9cbce6",
   "metadata": {
    "slideshow": {
     "slide_type": "slide"
    }
   },
   "source": [
    "# Loops\n",
    "## Write a loop with for item in collection: ",
    "\n",
    "```\n",
    "for letter in word:\n",
    "  print(letter)\n",
    "```\n",
    "Always put a colon at the end of the line, indented lines are run for every item in the collection"
   ]
  },
  {
   "cell_type": "markdown",
   "id": "c3ac6ce5",
   "metadata": {
    "slideshow": {
     "slide_type": "slide"
    }
   },
   "source": [
    "# Complementing\n",
    "- We can loop over all the bases in a sequence\n",
    "- Each base has a complement that we should substitute\n",
    "- We can use a __Dictionary__ to store this mappping.\n",
    "![complementing](images/complementing.png)"
   ]
  },
  {
   "cell_type": "markdown",
   "id": "93b9048f",
   "metadata": {
    "slideshow": {
     "slide_type": "slide"
    }
   },
   "source": [
    "# Dictionaries and Lists\n",
    "Create dicts with {}, lists with []\n",
    "```\n",
    "nucs = {'A': 5, 'C': 4, 'T': 8}\n",
    "counts = [5,4,8]\n",
    "```\n",
    "Both accessed with [] - dicts by key, lists by index\n",
    "```\n",
    "nucs['A'] # 5\n",
    "counts[0] # 5\n",
    "\n",
    "nucs['A'] = 3 # now 3\n",
    "counts[0] = 3 # now 3\n",
    "```\n"
   ]
  },
  {
   "cell_type": "markdown",
   "id": "360847a9",
   "metadata": {
    "slideshow": {
     "slide_type": "slide"
    }
   },
   "source": [
    "# GC-content percentage\n",
    "- Calculated as (G + C) / (A + T + G + C)\n",
    "- Create a GC count variable and an ATGC count variable\n",
    "  - Loop over each base in the sequence\n",
    "    - If G, add 1 to GC count\n",
    "    - If C add 1 to GC count\n",
    "    - For everything, add 1 to ATGC count"
   ]
  },
  {
   "cell_type": "markdown",
   "id": "e1fd856b",
   "metadata": {
    "slideshow": {
     "slide_type": "slide"
    }
   },
   "source": [
    "# Conditionals\n",
    "```\n",
    "# Test c1 for True or False\n",
    "if c1:\n",
    "    print(\"c1 was True\")\n",
    "# c1 was False, check c2\n",
    "elif c2:\n",
    "    print(\"c1 False but c2 True\")\n",
    "# All checks False\n",
    "else:\n",
    "    print(\"Both False\")\n",
    "```"
   ]
  },
  {
   "cell_type": "markdown",
   "id": "7c37929c",
   "metadata": {
    "slideshow": {
     "slide_type": "slide"
    }
   },
   "source": [
    "# Exercise: Functions\n",
    "__bases = 'adenine cytosine guanine thymine'__\n",
    "Write some code that:\n",
    "- Makes a __list__ of these bases from the string\n",
    "- __Uppercases__ the names (e.g. ['ADENINE', ...])\n",
    "- __Reverse__s the order (e.g. ['THYMINE',...])\n",
    "\n",
    "Hint: Use help(str) and help(list) to see what functions are available for strings and lists\n",
    "\n",
    "__Bonus__: Write a for loop to print the first letter of each (e.g. A, C, ...)"
   ]
  },
  {
   "cell_type": "markdown",
   "id": "8399b443",
   "metadata": {
    "slideshow": {
     "slide_type": "slide"
    }
   },
   "source": [
    "# Exercise\n",
    "Strings can be reversed with this special slicing notation: [::-1] ",
    "\n",
    "```\n",
    "s = 'abc'\n",
    "r = s[::-1]\n",
    "print(r)\n",
    "```\n",
    "__cba__\n",
    "\n",
    "Update reverse() function to use [::-1] instead of a loop.\n",
    "\n",
    "Do we need to do anything to complement()?  ",
    " What about reverse_complement()?"
   ]
  },
  {
   "cell_type": "markdown",
   "id": "354a04fd",
   "metadata": {
    "slideshow": {
     "slide_type": "slide"
    }
   },
   "source": [
    "# Functions\n",
    "Calling functions: `length = len('abc')`\n",
    "- Defining functions:\n",
    "```\n",
    "def double(x):\n",
    "    return x * 2\n",
    "```\n",
    "- Composing functions:\n",
    "```\n",
    "def reverse_complement(seq):\n",
    "    return reverse(complement(seq))\n",
    "```\n",
    "\n",
    "Avoid using global variables in functions"
   ]
  },
  {
   "cell_type": "markdown",
   "id": "228b4ea7",
   "metadata": {
    "slideshow": {
     "slide_type": "slide"
    }
   },
   "source": [
    "# Exercise\n",
    "\n",
    "- Write a function, `read_fasta(filename)` that:\n",
    "  - Takes 1 argument: `filename`\n",
    "  - Reads the file line-by-line\n",
    "  - Strips/combines the lines into one long line Skips the line if it contains a >\n",
    "- Hint: `if not 'i' in ‘team':`"
   ]
  },
  {
   "cell_type": "markdown",
   "id": "aa7dbddf",
   "metadata": {
    "slideshow": {
     "slide_type": "slide"
    }
   },
   "source": [
    "# Reading files\n",
    "- Open a file with the `open()` function:\n",
    "```\n",
    "f = open('ae.fa')\n",
    "```\n",
    "- Loop over lines, and `strip()` each one\n",
    "```\n",
    "for line in f:\n",
    "    print(line.strip())\n",
    "```\n",
    "- Close with `f.close()`"
   ]
  },
  {
   "cell_type": "markdown",
   "id": "7873843d",
   "metadata": {
    "slideshow": {
     "slide_type": "slide"
    }
   },
   "source": [
    "# Scripts\n",
    "- Put code in a file, give it the .py extension\n",
    "- Read command line-arguments from sys.argv:\n",
    "\n",
    "```\n",
    "import sys\n",
    "print(sys.argv[0])\n",
    "print(sys.argv[1])\n",
    "```\n",
    "\n",
    "```\n",
    "$ python script.py hello\n",
    "script.py\n",
    "hello\n",
    "```\n",
    "\n",
    "- Check the length of sys.argv to be helpful!"
   ]
  }
 ],
 "metadata": {
  "celltoolbar": "Slideshow",
  "kernelspec": {
   "display_name": "Python 3 (ipykernel)",
   "language": "python",
   "name": "python3"
  },
  "language_info": {
   "codemirror_mode": {
    "name": "ipython",
    "version": 3
   },
   "file_extension": ".py",
   "mimetype": "text/x-python",
   "name": "python",
   "nbconvert_exporter": "python",
   "pygments_lexer": "ipython3",
   "version": "3.8.5"
  }
 },
 "nbformat": 4,
 "nbformat_minor": 5
}
